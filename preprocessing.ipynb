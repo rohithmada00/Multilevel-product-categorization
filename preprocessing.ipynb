{
 "cells": [
  {
   "cell_type": "code",
   "execution_count": null,
   "metadata": {},
   "outputs": [],
   "source": [
    "import pandas as pd\n",
    "import tqdm"
   ]
  },
  {
   "cell_type": "code",
   "execution_count": null,
   "metadata": {},
   "outputs": [],
   "source": [
    "metadata_path = './data/abo-images-small/images/metadata/images.csv.gz'\n",
    "listings_path = './data/abo-listings/listings/metadata/'"
   ]
  },
  {
   "cell_type": "code",
   "execution_count": null,
   "metadata": {},
   "outputs": [],
   "source": [
    "metadata_df = pd.read_csv(metadata_path, compression='gzip')"
   ]
  },
  {
   "cell_type": "code",
   "execution_count": null,
   "metadata": {},
   "outputs": [],
   "source": [
    "metadata_df.head()"
   ]
  },
  {
   "cell_type": "code",
   "execution_count": null,
   "metadata": {},
   "outputs": [],
   "source": [
    "listings_df = pd.DataFrame()\n",
    "\n",
    "df_list = []\n",
    "for i in tqdm.tqdm(range(10)):\n",
    "    df_list.append(pd.read_json(f'{listings_path}listings_{i}.json.gz', lines=True, compression='gzip'))\n",
    "\n",
    "for i in tqdm.tqdm(['a', 'b', 'c', 'd', 'e', 'f']):\n",
    "    df_list.append(pd.read_json(f'{listings_path}listings_{i}.json.gz', lines=True, compression='gzip'))\n",
    "\n",
    "listings_df = pd.concat(df_list)"
   ]
  },
  {
   "cell_type": "code",
   "execution_count": null,
   "metadata": {},
   "outputs": [],
   "source": [
    "listings_df.head()"
   ]
  },
  {
   "cell_type": "code",
   "execution_count": null,
   "metadata": {},
   "outputs": [],
   "source": [
    "listings_df.columns"
   ]
  },
  {
   "cell_type": "code",
   "execution_count": null,
   "metadata": {},
   "outputs": [],
   "source": [
    "merged_df = listings_df.drop_duplicates(subset= 'main_image_id').merge(metadata_df, left_on= 'main_image_id', right_on='image_id')"
   ]
  },
  {
   "cell_type": "code",
   "execution_count": null,
   "metadata": {},
   "outputs": [],
   "source": [
    "merged_df['node'][54094]"
   ]
  },
  {
   "cell_type": "code",
   "execution_count": null,
   "metadata": {},
   "outputs": [],
   "source": [
    "merged_df.columns"
   ]
  },
  {
   "cell_type": "code",
   "execution_count": null,
   "metadata": {},
   "outputs": [],
   "source": [
    "# drop unnecessary columns\n",
    "\n",
    "filtered_df = merged_df[['item_name', 'country', 'node', 'path']]"
   ]
  },
  {
   "cell_type": "code",
   "execution_count": null,
   "metadata": {},
   "outputs": [],
   "source": [
    "# filter out any non US products\n",
    "\n",
    "filtered_df = filtered_df[filtered_df['country'] == 'US']"
   ]
  },
  {
   "cell_type": "code",
   "execution_count": null,
   "metadata": {},
   "outputs": [],
   "source": [
    "# remove unnecessary metadata and store only string value title and categories\n",
    "\n",
    "def extract_node_name(nodes):\n",
    "    try:\n",
    "        if nodes and isinstance(nodes, list):  # Check if 'nodes' is not None or empty, and is a list\n",
    "            if isinstance(nodes[0], dict) and 'node_name' in nodes[0]:  # Check if the first item is a dictionary and has 'node_name'\n",
    "                return nodes[0]['node_name']\n",
    "    except Exception as e:\n",
    "        print(f\"Error: {e}\")  # Print any exceptions that occur to help with debugging\n",
    "    return pd.NA  # Return None if any conditions fail\n",
    "\n",
    "def get_en_us_name(item_names):\n",
    "    for item in item_names:\n",
    "        if item['language_tag'] == 'en_US':\n",
    "            return item['value']\n",
    "    return pd.NA  # Return None  if 'en_US' is not found\n",
    "\n",
    "filtered_df['node_name'] = filtered_df['node'].apply(extract_node_name)\n",
    "filtered_df['product_name'] = filtered_df['item_name'].apply(get_en_us_name)\n",
    "filtered_df = filtered_df.dropna()\n",
    "\n",
    "filtered_df['categories'] = filtered_df['node_name'].str.split('/').apply(lambda x: [item for item in x if item]) \n",
    "\n",
    "# Remove rows where 'node_name' is either None or an empty string\n",
    "# filtered_df = filtered_df[filtered_df['node_name'].notna() & (filtered_df['node_name'] != '')]"
   ]
  },
  {
   "cell_type": "code",
   "execution_count": null,
   "metadata": {},
   "outputs": [],
   "source": [
    "filtered_df.tail()"
   ]
  },
  {
   "cell_type": "code",
   "execution_count": null,
   "metadata": {},
   "outputs": [],
   "source": [
    "final_df = filtered_df[['product_name', 'categories', 'path']]"
   ]
  },
  {
   "cell_type": "code",
   "execution_count": null,
   "metadata": {},
   "outputs": [],
   "source": [
    "final_df.tail()"
   ]
  },
  {
   "cell_type": "code",
   "execution_count": null,
   "metadata": {},
   "outputs": [],
   "source": [
    "final_df['categories'] = final_df['categories'].apply(lambda x: x[1:] if len(x) > 0 else pd.NA)"
   ]
  },
  {
   "cell_type": "code",
   "execution_count": null,
   "metadata": {},
   "outputs": [],
   "source": [
    "final_df = final_df.dropna()"
   ]
  },
  {
   "cell_type": "code",
   "execution_count": null,
   "metadata": {},
   "outputs": [],
   "source": [
    "final_df"
   ]
  },
  {
   "cell_type": "code",
   "execution_count": null,
   "metadata": {},
   "outputs": [],
   "source": [
    "final_df['categories'].apply(len).max()"
   ]
  },
  {
   "cell_type": "code",
   "execution_count": null,
   "metadata": {},
   "outputs": [],
   "source": [
    "final_df['categories'] = final_df['categories'].apply(lambda x: x + ['UNK'] * (6 - len(x)) if len(x) < 6 else x)"
   ]
  },
  {
   "cell_type": "code",
   "execution_count": null,
   "metadata": {},
   "outputs": [],
   "source": [
    "final_df.head()"
   ]
  },
  {
   "cell_type": "code",
   "execution_count": null,
   "metadata": {},
   "outputs": [],
   "source": [
    "final_df['categories'].apply(len).min()"
   ]
  },
  {
   "cell_type": "code",
   "execution_count": null,
   "metadata": {},
   "outputs": [],
   "source": [
    "for i in range(0,6):\n",
    "    final_df[f'category_{i+1}'] = final_df['categories'].apply(lambda x: x[i])"
   ]
  },
  {
   "cell_type": "code",
   "execution_count": null,
   "metadata": {},
   "outputs": [],
   "source": [
    "final_df.head()"
   ]
  },
  {
   "cell_type": "code",
   "execution_count": null,
   "metadata": {},
   "outputs": [],
   "source": [
    "final_df.drop('categories', axis=1, inplace=True)"
   ]
  },
  {
   "cell_type": "code",
   "execution_count": null,
   "metadata": {},
   "outputs": [],
   "source": [
    "final_df.head()"
   ]
  },
  {
   "cell_type": "code",
   "execution_count": null,
   "metadata": {},
   "outputs": [],
   "source": [
    "final_df.to_csv('dataset/dataset.csv')"
   ]
  },
  {
   "cell_type": "code",
   "execution_count": null,
   "metadata": {},
   "outputs": [],
   "source": []
  }
 ],
 "metadata": {
  "kernelspec": {
   "display_name": "base",
   "language": "python",
   "name": "python3"
  },
  "language_info": {
   "codemirror_mode": {
    "name": "ipython",
    "version": 3
   },
   "file_extension": ".py",
   "mimetype": "text/x-python",
   "name": "python",
   "nbconvert_exporter": "python",
   "pygments_lexer": "ipython3",
   "version": "3.11.4"
  }
 },
 "nbformat": 4,
 "nbformat_minor": 2
}
