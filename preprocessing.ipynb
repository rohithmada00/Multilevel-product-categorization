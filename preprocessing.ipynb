{
 "cells": [
  {
   "cell_type": "code",
   "execution_count": 1,
   "metadata": {},
   "outputs": [],
   "source": [
    "import pandas as pd\n",
    "import tqdm"
   ]
  },
  {
   "cell_type": "code",
   "execution_count": 2,
   "metadata": {},
   "outputs": [],
   "source": [
    "metadata_path = './data/abo-images-small/images/metadata/images.csv.gz'\n",
    "listings_path = './data/abo-listings/listings/metadata/'"
   ]
  },
  {
   "cell_type": "code",
   "execution_count": 3,
   "metadata": {},
   "outputs": [],
   "source": [
    "metadata_df = pd.read_csv(metadata_path, compression='gzip')"
   ]
  },
  {
   "cell_type": "code",
   "execution_count": 4,
   "metadata": {},
   "outputs": [
    {
     "name": "stderr",
     "output_type": "stream",
     "text": [
      "  0%|          | 0/10 [00:00<?, ?it/s]"
     ]
    },
    {
     "name": "stderr",
     "output_type": "stream",
     "text": [
      "100%|██████████| 10/10 [00:27<00:00,  2.71s/it]\n",
      "100%|██████████| 6/6 [00:17<00:00,  2.91s/it]\n"
     ]
    }
   ],
   "source": [
    "listings_df = pd.DataFrame()\n",
    "\n",
    "for i in tqdm.tqdm(range(10)):\n",
    "    temp_df = pd.read_json(f'{listings_path}listings_{i}.json.gz', lines=True, compression='gzip')\n",
    "    listings_df = pd.concat([listings_df, temp_df], ignore_index=True)\n",
    "\n",
    "for i in tqdm.tqdm(['a', 'b', 'c', 'd', 'e', 'f']):\n",
    "    temp_df = pd.read_json(f'{listings_path}listings_{i}.json.gz', lines=True, compression='gzip')\n",
    "    listings_df = pd.concat([listings_df, temp_df], ignore_index=True)"
   ]
  },
  {
   "cell_type": "code",
   "execution_count": 5,
   "metadata": {},
   "outputs": [
    {
     "data": {
      "text/plain": [
       "brand                  object\n",
       "bullet_point           object\n",
       "color                  object\n",
       "item_id                object\n",
       "item_name              object\n",
       "model_name             object\n",
       "model_number           object\n",
       "model_year             object\n",
       "product_type           object\n",
       "style                  object\n",
       "main_image_id          object\n",
       "other_image_id         object\n",
       "item_keywords          object\n",
       "country                object\n",
       "marketplace            object\n",
       "domain_name            object\n",
       "node                   object\n",
       "item_dimensions        object\n",
       "item_weight            object\n",
       "material               object\n",
       "fabric_type            object\n",
       "color_code             object\n",
       "product_description    object\n",
       "spin_id                object\n",
       "3dmodel_id             object\n",
       "pattern                object\n",
       "finish_type            object\n",
       "item_shape             object\n",
       "dtype: object"
      ]
     },
     "execution_count": 5,
     "metadata": {},
     "output_type": "execute_result"
    }
   ],
   "source": [
    "listings_df.dtypes"
   ]
  },
  {
   "cell_type": "code",
   "execution_count": 6,
   "metadata": {},
   "outputs": [
    {
     "data": {
      "text/plain": [
       "brand                  object\n",
       "bullet_point           object\n",
       "color                  object\n",
       "item_id                object\n",
       "item_name              object\n",
       "model_name             object\n",
       "model_number           object\n",
       "model_year             object\n",
       "product_type           object\n",
       "style                  object\n",
       "main_image_id          object\n",
       "other_image_id         object\n",
       "item_keywords          object\n",
       "country                object\n",
       "marketplace            object\n",
       "domain_name            object\n",
       "node                   object\n",
       "item_dimensions        object\n",
       "item_weight            object\n",
       "material               object\n",
       "fabric_type            object\n",
       "color_code             object\n",
       "product_description    object\n",
       "spin_id                object\n",
       "3dmodel_id             object\n",
       "pattern                object\n",
       "finish_type            object\n",
       "item_shape             object\n",
       "dtype: object"
      ]
     },
     "execution_count": 6,
     "metadata": {},
     "output_type": "execute_result"
    }
   ],
   "source": [
    "listings_df.dtypes"
   ]
  },
  {
   "cell_type": "code",
   "execution_count": 7,
   "metadata": {},
   "outputs": [],
   "source": [
    "# drop unnecessary columns\n",
    "\n",
    "filtered_df = listings_df[['item_name', 'main_image_id', 'country', 'node',]]"
   ]
  },
  {
   "cell_type": "code",
   "execution_count": 8,
   "metadata": {},
   "outputs": [],
   "source": [
    "# filter out any non US products\n",
    "\n",
    "filtered_df = filtered_df[filtered_df['country'] == 'US']"
   ]
  },
  {
   "cell_type": "code",
   "execution_count": 9,
   "metadata": {},
   "outputs": [],
   "source": [
    "# remove unnecessary metadata and store only string value title and categories\n",
    "\n",
    "def extract_node_name(nodes):\n",
    "    try:\n",
    "        if nodes and isinstance(nodes, list):  # Check if 'nodes' is not None or empty, and is a list\n",
    "            if isinstance(nodes[0], dict) and 'node_name' in nodes[0]:  # Check if the first item is a dictionary and has 'node_name'\n",
    "                return nodes[0]['node_name']\n",
    "    except Exception as e:\n",
    "        print(f\"Error: {e}\")  # Print any exceptions that occur to help with debugging\n",
    "    return None  # Return None if any conditions fail\n",
    "\n",
    "def get_en_us_name(item_names):\n",
    "    for item in item_names:\n",
    "        if item['language_tag'] == 'en_US':\n",
    "            return item['value']\n",
    "    return None  # Return None  if 'en_US' is not found\n",
    "\n",
    "filtered_df['node_name'] = filtered_df['node'].apply(extract_node_name)\n",
    "filtered_df['product_name'] = filtered_df['item_name'].apply(get_en_us_name)\n",
    "filtered_df = filtered_df.drop(columns=['node', 'country', 'item_name'])\n",
    "\n",
    "# Remove rows where 'node_name' is either None or an empty string\n",
    "filtered_df = filtered_df[filtered_df['node_name'].notna() & (filtered_df['node_name'] != '')]"
   ]
  },
  {
   "cell_type": "code",
   "execution_count": 10,
   "metadata": {},
   "outputs": [],
   "source": [
    "# filtered_df.to_excel('filtered_abo_listings.xlsx')"
   ]
  },
  {
   "cell_type": "code",
   "execution_count": 11,
   "metadata": {},
   "outputs": [],
   "source": [
    "metadata_df.to_excel('product_metadata.xlsx')"
   ]
  },
  {
   "cell_type": "code",
   "execution_count": null,
   "metadata": {},
   "outputs": [],
   "source": []
  }
 ],
 "metadata": {
  "kernelspec": {
   "display_name": "base",
   "language": "python",
   "name": "python3"
  },
  "language_info": {
   "codemirror_mode": {
    "name": "ipython",
    "version": 3
   },
   "file_extension": ".py",
   "mimetype": "text/x-python",
   "name": "python",
   "nbconvert_exporter": "python",
   "pygments_lexer": "ipython3",
   "version": "3.11.4"
  }
 },
 "nbformat": 4,
 "nbformat_minor": 2
}
